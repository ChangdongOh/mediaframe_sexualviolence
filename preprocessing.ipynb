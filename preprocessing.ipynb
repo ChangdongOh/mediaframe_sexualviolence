{
 "cells": [
  {
   "cell_type": "code",
   "execution_count": 104,
   "metadata": {
    "collapsed": true
   },
   "outputs": [],
   "source": [
    "import pandas as pd\n",
    "import numpy as np\n",
    "\n",
    "# merge data from media\n",
    "data = pd.DataFrame({'url':[], 'title':[], 'date':[], 'press':[], 'article':[]})\n",
    "file_list = ['joongang', 'hk', 'SBS', 'KBS', 'MBC', 'chosun', 'hani', 'khan', 'donga', 'mk']\n",
    "for name in file_list:\n",
    "    data = pd.concat([data, pd.read_csv(name + '.csv', engine='python', encoding='utf8')], sort=True)\n",
    "\n",
    "# drop duplicates and filter too short articles\n",
    "data = data.dropna(subset=['article', 'date', 'press']).drop_duplicates()\n",
    "data = data.drop_duplicates(subset=['article'], keep='first')\n",
    "data = data[data['article'].str.len() > 50].reset_index(drop=True)"
   ]
  },
  {
   "cell_type": "code",
   "execution_count": 105,
   "metadata": {
    "collapsed": false,
    "scrolled": true
   },
   "outputs": [],
   "source": [
    "data['date'] = data['date'].str.replace(' ', '').str.replace('-', '.')\n",
    "\n",
    "data['article'] = data['article'].str.replace('아무개', '모')\n",
    "data['article'] = data['article'].str.replace('[가-힣]{2,3}\\s{1,3}기자', '')\n",
    "data['article'] = data['article'].str.replace(r'\\s[김이박최정강조윤장임한오서신권황안송전홍류고문양손배조'\n",
    "                                              '백허유남심노하A-Zㄱ-ㅎ]{1}\\s{0,1}[모]{0,1}\\s{0,'\n",
    "                                              '1}\\({1}.{1,10}\\){1}\\s{0,1}(?P<name>[양군씨])', ' 김\\g<1> ')\n",
    "data['article'] = data['article'].str.replace(r'\\s[김이박최정강조윤장임한오서신권황안송전홍류고문양손배조'\n",
    "                                              '백허유남심노하A-Zㄱ-ㅎ]{1}\\s{0,1}\\({1}.{1,'\n",
    "                                              '10}\\){1}\\s{0,1}[모]{0,1}\\s{0,1}(?P<name>[양군씨])', ' 김\\g<1> ')\n",
    "data['article'] = data['article'].str.replace(r'\\s[김이박최정강조윤장임한오서신권황안송전홍류고문양손배조'\n",
    "                                              '백허유남심노하A-Zㄱ-ㅎ]{1}\\s{0,1}\\s{0,1}[모]{0,1}\\s{0,1}(?P<name>[양군씨])', ' 김\\g<1> ')\n",
    "\n",
    "data['article'] = data['article'].str.replace(r'\\s[김이박최정강조윤장임한오서신권황안송전홍류고문양손배조'\n",
    "                                              '백허유남심노하A-Zㄱ-ㅎ]\\s{0,1}모\\s{0,1}씨{1}', ' 김모씨 ')\n",
    "data['article'] = data['article'].str.replace(r'\\s[김이박최정강조윤장임한오서신권황안송전홍류고문양손배조'\n",
    "                                              '백허유남심노하A-Zㄱ-ㅎ]\\s{0,1}모\\s{0,1} ', ' 김모씨 ')\n",
    "\n",
    "data['article'] = data['article'].str.replace(r'[연합뉴스] <저작권자 ⓒ 1980-2018 ㈜연합뉴스. 무단 전재 재배포 금지.>', ' ')\n",
    "data['article'] = data['article'].str.replace(r'연합뉴스 모바일', ' ')\n",
    "\n",
    "data['article'] = data['article'].str.replace(' [김은진주윤양현이최박권배날신엄원곽'\n",
    "                                        '연구변우조오송석민천전정홍강임장한유서'\n",
    "                                        '선황고노공차안나함모방성]\\s{0,1}모{0,1}'\n",
    "                                        '\\s{0,1}씨 ', ' 김모씨 ')\n",
    "data['article'] = data['article'].str.replace(' [김은진주윤양현이최박권배날신엄원곽'\n",
    "                                        '연구변우조오송석민천전정홍강임장한유서'\n",
    "                                        '선황고노공차안나함모방성]\\s{0,1}모{0,1}'\n",
    "                                        '\\s{0,1}양 ', ' 김모양 ')\n",
    "data['article'] = data['article'].str.replace(' [김은진주윤양현이최박권배날신엄원곽'\n",
    "                                        '연구변우조오송석민천전정홍강임장한유서'\n",
    "                                        '선황고노차안나함모방성]\\s{0,1}모{0,1}'\n",
    "                                        '\\s{0,1}군 ', ' 김모군 ')\n",
    "data['pos'] = data['article']\n",
    "data.to_csv('merged.csv', encoding='utf8', index=False)"
   ]
  },
  {
   "cell_type": "code",
   "execution_count": 106,
   "metadata": {
    "collapsed": false
   },
   "outputs": [],
   "source": [
    "data = pd.read_csv('merged.csv')"
   ]
  },
  {
   "cell_type": "code",
   "execution_count": 107,
   "metadata": {
    "collapsed": false
   },
   "outputs": [],
   "source": [
    "data = data.dropna(subset=['title', 'article']).reset_index(drop=True)"
   ]
  },
  {
   "cell_type": "code",
   "execution_count": 108,
   "metadata": {
    "collapsed": false
   },
   "outputs": [],
   "source": [
    "data = data[(data.title.str.contains('성범죄|성폭행|강간|성폭력|성추행|성희롱')) | \n",
    "         (data.article.str.count('성범죄|성폭행|강간|성폭력|성추행|성희롱|추행|미투') >= 1)].reset_index(drop=True)"
   ]
  },
  {
   "cell_type": "code",
   "execution_count": 110,
   "metadata": {
    "collapsed": false
   },
   "outputs": [],
   "source": [
    "from konlpy.tag import Komoran\n",
    "import re\n",
    "\n",
    "pos_tagger = Komoran()\n",
    "\n",
    "def pos(doc): \n",
    "    \n",
    "    stopwords = ['기자', '대한', '위해', '이후', '이나', '에서', '로부터', '면서', \n",
    "             '상대로', '하자', '중이', '로서', '대로', '이기', '구독',\n",
    "            '구독','글방', '한수진', '사회자', '무단', '전재', '복제',\n",
    "             '콘텐츠', '허브', '배포', '저작권', '베스트', '추천', '포토', '연합뉴스',\n",
    "             '래빗', '뉴스래빗', '기사', '중앙',  '한경', '한경닷컴', '한겨레', '경향',\n",
    "             '동아', '동아일보', '조선', '조선일보', '중앙일보', '매일경제', '매일',\n",
    "             '뉴스', '앵커', '있다', '있는', '하는', \n",
    "             '입니', '있었', '아니', '없다', '이런', '않았', '하지', '하기', '하게', \n",
    "             '하다', '이어', '하려', '관한', '있어', '이를', '않고', '않은', \n",
    "             '어떤', '많은', '하며', '어떻', '있지', '있던', '아닌', '있으', '있고', \n",
    "             '있도', '하거', '하던', '하도', '그러', '겁니', '보여', '있거']\n",
    "    doc = re.sub('|'.join(stopwords), '', doc)\n",
    "    return ['/'.join(t) for t in pos_tagger.pos(doc) \n",
    "            if re.search('NNG|NNP|VV|VA|MM', t[1]) != None and re.search('[0-9]', t[0]) == None]"
   ]
  },
  {
   "cell_type": "code",
   "execution_count": 111,
   "metadata": {
    "collapsed": false
   },
   "outputs": [],
   "source": [
    "data['pos'] = [pos(i) for i in data['pos']]"
   ]
  },
  {
   "cell_type": "code",
   "execution_count": 137,
   "metadata": {
    "collapsed": true
   },
   "outputs": [],
   "source": [
    "data['pos'] = [' '.join(i) for i in data['pos']]"
   ]
  },
  {
   "cell_type": "code",
   "execution_count": 113,
   "metadata": {
    "collapsed": true
   },
   "outputs": [],
   "source": [
    "data.pos = data.pos.str.replace('/VV|/VA', '다/VV').str.replace('/[A-Z]{2,3}', '')"
   ]
  },
  {
   "cell_type": "code",
   "execution_count": 117,
   "metadata": {
    "collapsed": true
   },
   "outputs": [],
   "source": [
    "for i in data[data.pos.str.contains('김 모 군') & data.pos.str.contains('육군|병장|상병|군대|헌병대|군기|부대|김군기')].index:\n",
    "    data.loc[i, 'pos'] = re.sub(data.loc[i, 'pos'], '김 모 군', '육군')"
   ]
  },
  {
   "cell_type": "code",
   "execution_count": 118,
   "metadata": {
    "collapsed": true
   },
   "outputs": [],
   "source": [
    "data.pos = data.pos.str.replace(' 김 모양 ', ' 김양 ')\n",
    "data.pos = data.pos.str.replace(' 김 모 군 ', ' 김군 ')\n",
    "data.pos = data.pos.str.replace(' 김 모씨 | 김모씨 ', ' 김씨 ')\n",
    "data.pos = data.pos.str.replace('[김은진주윤양현이최박권배신엄원곽'\n",
    "                                        '연구변우조오송석민천전정홍강임장한유서'\n",
    "                                        '황노차나방성]\\s{0,1}모{1}'\n",
    "                                        '\\s{0,1}(?P<name>[양군씨])', '김\\g<1>')\n",
    "data.pos = data.pos.str.replace('[김은진주윤양현이최박권배신엄원곽'\n",
    "                                        '연구변우조오송석민천전정홍강임장한유서'\n",
    "                                        '황노차나방성]\\s{0,1}모{0,1}'\n",
    "                                        '\\s{0,1}씨', '김씨')\n",
    "data.pos = data.pos.str.replace(' 양 ', ' 김양 ')"
   ]
  },
  {
   "cell_type": "code",
   "execution_count": 119,
   "metadata": {
    "collapsed": true
   },
   "outputs": [],
   "source": [
    "data['pos'] = data['pos'].str.replace('갈리아', '메갈리아')\n",
    "data['pos'] = data['pos'].str.replace('드 루킹', '드루킹')\n",
    "data['pos'] = data['pos'].str.replace('더불 민주', '더불어민주당')\n",
    "data['pos'] = data['pos'].str.replace('와인 스티|와인 스타', '와인스타인')\n",
    "data['pos'] = data['pos'].str.replace('스트로스 칸', '스트로스칸')\n",
    "data['pos'] = data['pos'].str.replace('양 예원', '양예원')\n",
    "data['pos'] = data['pos'].str.replace('승우 |여가 ', '')\n",
    "data['pos'] = data['pos'].str.replace(' 여신 도 | 여신[도]{1,4} | 여신 ', ' 여신도 ')\n",
    "data['pos'] = data['pos'].str.replace('피의자|용의자', '가해자')\n",
    "data['pos'] = data['pos'].str.replace('\\s{2,}', '\\s')"
   ]
  },
  {
   "cell_type": "code",
   "execution_count": 120,
   "metadata": {
    "collapsed": false
   },
   "outputs": [],
   "source": [
    "for i in data[data.pos.str.contains('김군') & data.pos.str.contains('육군|병장|상병|군대|헌병대|군기|부대|김군기')].index:\n",
    "    data.loc[i, 'pos'] = re.sub(data.loc[i, 'pos'], '김군', '육군')"
   ]
  },
  {
   "cell_type": "code",
   "execution_count": 121,
   "metadata": {
    "collapsed": true
   },
   "outputs": [],
   "source": [
    "data.pos = data.pos.str.replace(' 곽 | 한 | 이 | 말 | 전 | 뒤 | 그 | 때 | 고 | 일 | 성 | 게 | 두 | 이 '\n",
    "                                '| 하 | 록 | 후 | 안 | 앞 | 모 | 라 | 을 | 의 | 달 | 으 | 주 | 범 | 방 | 곳 | 다 |'\n",
    "                                ' 면 | 당 | 직 | 날 | 미 | 위 | 반 | 도 | 부 | 약 | 단 | 끝 | 장 | 차 | 세 | 뒤 | 한 | 현 | 급 '\n",
    "                                ' 사 | 실 | 뜻 | 시 | 요 | 올 | 인 | 새 | 옆 | 르 | 하다 | 되다 | 없다 | 가다 | 같다 ', ' ')"
   ]
  },
  {
   "cell_type": "code",
   "execution_count": 122,
   "metadata": {
    "collapsed": true
   },
   "outputs": [],
   "source": [
    "data.pos = data.pos.str.replace('저렇다|아무렇다|거리다 ', ' ')\n",
    "data.pos = data.pos.str.replace(r'\\s{2,}', ' ')"
   ]
  },
  {
   "cell_type": "code",
   "execution_count": 123,
   "metadata": {
    "collapsed": false,
    "scrolled": true
   },
   "outputs": [],
   "source": [
    "import nltk\n",
    "from nltk import FreqDist\n",
    "\n",
    "tokens = [j for i in data['pos'] for j in i.split(' ')]\n",
    "text = nltk.Text(tokens)\n",
    "freq = FreqDist(text)\n",
    "# sorted(freq.items(), key=lambda item: item[1], reverse=True)"
   ]
  },
  {
   "cell_type": "code",
   "execution_count": null,
   "metadata": {
    "collapsed": true
   },
   "outputs": [],
   "source": [
    "# [i for i in sorted(freq.items(), key=lambda item: item[1], reverse=True) if len(i[0])==1]"
   ]
  },
  {
   "cell_type": "markdown",
   "metadata": {},
   "source": [
    "날짜 단위로 잘라서 저장"
   ]
  },
  {
   "cell_type": "code",
   "execution_count": 125,
   "metadata": {
    "collapsed": false
   },
   "outputs": [],
   "source": [
    "data['date'] = [i[:7] for i in data['date']]"
   ]
  },
  {
   "cell_type": "code",
   "execution_count": 126,
   "metadata": {
    "collapsed": false
   },
   "outputs": [],
   "source": [
    "for i in data[data['date'].str.len() == 4]['date'].index:\n",
    "    data.loc[i, 'date'] = data['date'][i] + '.01.01'\n",
    "data = data[data['date'].str.len() >= 7].reset_index(drop=True)\n",
    "data = data[data['date'].str.contains('[^\\d.]') == False].reset_index(drop=True)"
   ]
  },
  {
   "cell_type": "code",
   "execution_count": 127,
   "metadata": {
    "collapsed": false,
    "scrolled": true
   },
   "outputs": [],
   "source": [
    "year = 2002\n",
    "month = 1"
   ]
  },
  {
   "cell_type": "code",
   "execution_count": 128,
   "metadata": {
    "collapsed": false,
    "scrolled": true
   },
   "outputs": [],
   "source": [
    "import numpy as np\n",
    "data['dindex'] = [np.nan for _ in range(0, len(data['url']))]\n",
    "data['dindex'] = [12*(int(i.split('.')[0]) - year) + int(i.split('.')[1]) - month for i in data['date']]"
   ]
  },
  {
   "cell_type": "code",
   "execution_count": 129,
   "metadata": {
    "collapsed": false
   },
   "outputs": [],
   "source": [
    "data = data[data['date'] > '2002.01']"
   ]
  },
  {
   "cell_type": "code",
   "execution_count": 130,
   "metadata": {
    "collapsed": false,
    "scrolled": false
   },
   "outputs": [],
   "source": [
    "data['date'] = [i[:7] for i in data['date']]"
   ]
  },
  {
   "cell_type": "code",
   "execution_count": 131,
   "metadata": {
    "collapsed": false
   },
   "outputs": [],
   "source": [
    "data = data.dropna(subset=['article', 'date', 'press', 'pos'])"
   ]
  },
  {
   "cell_type": "code",
   "execution_count": 142,
   "metadata": {
    "collapsed": false,
    "scrolled": true
   },
   "outputs": [],
   "source": [
    "data['num'] = [len(i.split(' ')) for i in data['pos']]"
   ]
  },
  {
   "cell_type": "code",
   "execution_count": 147,
   "metadata": {
    "collapsed": true
   },
   "outputs": [],
   "source": [
    "data.to_csv('processed_2002.csv', encoding='utf8', index=False)"
   ]
  },
  {
   "cell_type": "code",
   "execution_count": 148,
   "metadata": {
    "collapsed": true
   },
   "outputs": [],
   "source": [
    "import sys\n",
    "import csv\n",
    "import pandas as pd\n",
    "from gensim.models.word2vec import Word2Vec\n",
    "\n",
    "data = pd.read_csv('processed_2002.csv', encoding='utf8', engine='python').dropna(subset=['pos'])\n",
    "data['pos'] = [i.split(' ') for i in data['pos']]\n",
    "model = Word2Vec(data['pos'], size=300, alpha=0.025, min_alpha=0.025,\n",
    "                 window=5, workers=12, min_count=150)\n",
    "model.save('standard.model')"
   ]
  },
  {
   "cell_type": "code",
   "execution_count": null,
   "metadata": {
    "collapsed": true
   },
   "outputs": [],
   "source": []
  }
 ],
 "metadata": {
  "kernelspec": {
   "display_name": "Python 3",
   "language": "python",
   "name": "python3"
  },
  "language_info": {
   "codemirror_mode": {
    "name": "ipython",
    "version": 3
   },
   "file_extension": ".py",
   "mimetype": "text/x-python",
   "name": "python",
   "nbconvert_exporter": "python",
   "pygments_lexer": "ipython3",
   "version": "3.6.0"
  }
 },
 "nbformat": 4,
 "nbformat_minor": 2
}
